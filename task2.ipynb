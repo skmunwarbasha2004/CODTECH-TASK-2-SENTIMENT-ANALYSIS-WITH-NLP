{
 "cells": [
  {
   "cell_type": "code",
   "execution_count": 5,
   "id": "9fc8707e-dd8c-4b66-8f15-0a13601eac5e",
   "metadata": {},
   "outputs": [
    {
     "name": "stdout",
     "output_type": "stream",
     "text": [
      "First 5 rows of the dataset:\n",
      "   sentiment  \\\n",
      "0          1   \n",
      "1          1   \n",
      "2          1   \n",
      "3          1   \n",
      "4          1   \n",
      "\n",
      "                                                                                                                           text  \n",
      "0                                                                                       The Da Vinci Code book is just awesome.  \n",
      "1  this was the first clive cussler i've ever read, but even books like Relic, and Da Vinci code were more plausible than this.  \n",
      "2                                                                                              i liked the Da Vinci Code a lot.  \n",
      "3                                                                                              i liked the Da Vinci Code a lot.  \n",
      "4                                                      I liked the Da Vinci Code but it ultimatly didn't seem to hold it's own.  \n",
      "\n",
      "Class distribution:\n",
      "sentiment\n",
      "1    3943\n",
      "0    2975\n",
      "Name: count, dtype: int64\n"
     ]
    }
   ],
   "source": [
    "import pandas as pd\n",
    "import numpy as np\n",
    "import matplotlib.pyplot as plt\n",
    "import seaborn as sns\n",
    "from sklearn.feature_extraction.text import TfidfVectorizer\n",
    "from sklearn.model_selection import train_test_split\n",
    "from sklearn.linear_model import LogisticRegression\n",
    "from sklearn import metrics\n",
    "from nltk.stem.snowball import PorterStemmer\n",
    "from sklearn.feature_extraction import text\n",
    "import warnings\n",
    "warnings.filterwarnings('ignore')\n",
    "\n",
    "# Load dataset\n",
    "train_ds = pd.read_csv(r'C:\\Users\\MUNWAR BASHA\\OneDrive\\Desktop\\rvr\\sem 6\\cm322\\mldatasets\\Dataset', delimiter=\"\\t\")\n",
    "\n",
    "# Display first few rows and check class distribution\n",
    "print(\"First 5 rows of the dataset:\")\n",
    "print(train_ds.head(5))\n",
    "pd.set_option('max_colwidth', 800)\n",
    "print(\"\\nClass distribution:\")\n",
    "print(train_ds.sentiment.value_counts())\n",
    "\n",
    "\n"
   ]
  },
  {
   "cell_type": "code",
   "execution_count": 11,
   "id": "a1c93428-542f-47c7-aea9-a300cb0e43a0",
   "metadata": {},
   "outputs": [
    {
     "name": "stdout",
     "output_type": "stream",
     "text": [
      "<class 'pandas.core.frame.DataFrame'>\n",
      "RangeIndex: 6918 entries, 0 to 6917\n",
      "Data columns (total 2 columns):\n",
      " #   Column     Non-Null Count  Dtype \n",
      "---  ------     --------------  ----- \n",
      " 0   sentiment  6918 non-null   int64 \n",
      " 1   text       6918 non-null   object\n",
      "dtypes: int64(1), object(1)\n",
      "memory usage: 108.2+ KB\n"
     ]
    }
   ],
   "source": [
    "train_ds.info()"
   ]
  },
  {
   "cell_type": "code",
   "execution_count": 6,
   "id": "9a4db47e-4e97-4358-ab2d-ead6e4ed4f56",
   "metadata": {},
   "outputs": [
    {
     "data": {
      "image/png": "[encoded data removed]",
      "text/plain": [
       "<Figure size 600x400 with 1 Axes>"
      ]
     },
     "metadata": {},
     "output_type": "display_data"
    }
   ],
   "source": [
    "# Visualize class distribution\n",
    "plt.figure(figsize=(6, 4))\n",
    "sns.countplot(x='sentiment', data=train_ds)\n",
    "plt.title(\"Sentiment Class Distribution\")\n",
    "plt.show()"
   ]
  },
  {
   "cell_type": "code",
   "execution_count": 7,
   "id": "e4e8defc-bdf5-4f97-94ae-9924dae09343",
   "metadata": {},
   "outputs": [],
   "source": [
    "# Custom stop words\n",
    "my_stop_words = text.ENGLISH_STOP_WORDS.union(['harry', 'potter', 'code', 'vinci', 'da', 'mountain', 'movie', 'movies'])\n",
    "\n",
    "# Stemming function for TF-IDF\n",
    "stemmer = PorterStemmer()\n",
    "analyzer = TfidfVectorizer().build_analyzer()\n",
    "\n",
    "def stemmed_words(doc):\n",
    "    stemmed = [stemmer.stem(w) for w in analyzer(doc)]\n",
    "    return [word for word in stemmed if word not in my_stop_words]\n",
    "\n",
    "# TF-IDF Vectorization\n",
    "tfidf_vectorizer = TfidfVectorizer(analyzer=stemmed_words, max_features=1000)\n",
    "feature_vector = tfidf_vectorizer.fit(train_ds.text)\n",
    "train_ds_features = tfidf_vectorizer.transform(train_ds.text)\n"
   ]
  },
  {
   "cell_type": "code",
   "execution_count": 8,
   "id": "c32fa5a3-f302-48fd-b560-70a4139cd971",
   "metadata": {},
   "outputs": [
    {
     "name": "stdout",
     "output_type": "stream",
     "text": [
      "\n",
      "Top 15 features by TF-IDF sum:\n",
      "      features   tfidf_sum\n",
      "414       love  765.920395\n",
      "83   brokeback  667.700015\n",
      "791       suck  643.888454\n",
      "45      awesom  609.369514\n",
      "303      harri  596.942489\n",
      "922         wa  453.781843\n",
      "447       movi  391.712458\n",
      "441    mission  341.318000\n",
      "351     imposs  341.144676\n",
      "400       like  319.941242\n",
      "305       hate  245.792642\n",
      "56      becaus  157.836017\n",
      "615     realli  150.921349\n",
      "386       know  141.783508\n",
      "784     stupid  122.957133\n"
     ]
    }
   ],
   "source": [
    "\n",
    "# Get feature names and their TF-IDF scores\n",
    "features = feature_vector.get_feature_names_out()\n",
    "features_counts = np.sum(train_ds_features.toarray(), axis=0)\n",
    "feature_counts_df = pd.DataFrame({'features': features, 'tfidf_sum': features_counts})\n",
    "print(\"\\nTop 15 features by TF-IDF sum:\")\n",
    "print(feature_counts_df.sort_values('tfidf_sum', ascending=False).head(15))"
   ]
  },
  {
   "cell_type": "code",
   "execution_count": 9,
   "id": "edb9c04c-32d6-4dce-89a6-45931a5502eb",
   "metadata": {},
   "outputs": [
    {
     "name": "stdout",
     "output_type": "stream",
     "text": [
      "\n",
      "Classification Report:\n",
      "              precision    recall  f1-score   support\n",
      "\n",
      "           0       0.99      0.98      0.98       873\n",
      "           1       0.99      0.99      0.99      1203\n",
      "\n",
      "    accuracy                           0.99      2076\n",
      "   macro avg       0.99      0.99      0.99      2076\n",
      "weighted avg       0.99      0.99      0.99      2076\n",
      "\n"
     ]
    }
   ],
   "source": [
    " #Prepare data for training\n",
    "train_X, test_X, train_y, test_y = train_test_split(\n",
    "    train_ds_features, train_ds.sentiment, test_size=0.3, random_state=42\n",
    ")\n",
    "\n",
    "# Train Logistic Regression model\n",
    "lr_clf = LogisticRegression(random_state=42)\n",
    "lr_clf.fit(train_X, train_y)\n",
    "\n",
    "# Predict on test set\n",
    "test_ds_predicted = lr_clf.predict(test_X)\n",
    "\n",
    "# Evaluate model\n",
    "print(\"\\nClassification Report:\")\n",
    "print(metrics.classification_report(test_y, test_ds_predicted))\n"
   ]
  },
  {
   "cell_type": "code",
   "execution_count": 21,
   "id": "e38bb28f-2c01-49ea-a79b-a94e3349be88",
   "metadata": {},
   "outputs": [
    {
     "data": {
      "image/png": "[encoded data removed]",
      "text/plain": [
       "<Figure size 1200x1000 with 1 Axes>"
      ]
     },
     "metadata": {},
     "output_type": "display_data"
    },
    {
     "name": "stdout",
     "output_type": "stream",
     "text": [
      "Confusion Matrix Values:\n",
      "[[ 855   18]\n",
      " [   9 1194]]\n",
      "\n",
      "Top 10 features with highest positive coefficients (Positive Sentiment):\n",
      "     feature  coefficient\n",
      "414     love     8.596392\n",
      "45    awesom     6.865474\n",
      "400     like     4.601582\n",
      "55    beauti     3.867224\n",
      "351   imposs     2.413561\n",
      "441  mission     2.413561\n",
      "283     good     1.801690\n",
      "289    great     1.712510\n",
      "205    enjoy     1.628669\n",
      "922       wa     1.601226\n",
      "\n",
      "Top 10 features with highest negative coefficients (Negative Sentiment):\n",
      "     feature  coefficient\n",
      "791     suck    -7.894087\n",
      "305     hate    -6.179319\n",
      "784   stupid    -3.640359\n",
      "79      bore    -3.557861\n",
      "165  depress    -3.556943\n",
      "335  horribl    -2.898469\n",
      "829  terribl    -2.701585\n",
      "468       oh    -2.043445\n",
      "394     left    -1.877151\n",
      "261     fuck    -1.764362\n"
     ]
    }
   ],
   "source": [
    "# Confusion Matrix\n",
    "# Confusion Matrix\n",
    "# Confusion Matrix# Ensure Matplotlib inline backend for Jupyter\n",
    "%matplotlib inline\n",
    "import matplotlib.pyplot as plt\n",
    "import seaborn as sns\n",
    "import numpy as np\n",
    "\n",
    "# Confusion Matrix\n",
    "cm = metrics.confusion_matrix(test_y, test_ds_predicted)\n",
    "\n",
    "# Set a large figure size to ensure enough space\n",
    "plt.figure(figsize=(12, 10))\n",
    "\n",
    "# Plot the heatmap with adjustments for Jupyter\n",
    "heatmap = sns.heatmap(cm, annot=True, fmt='d', cmap='Blues', \n",
    "                      xticklabels=['Negative', 'Positive'], \n",
    "                      yticklabels=['Negative', 'Positive'],\n",
    "                      annot_kws={\"size\": 16},  # Larger annotations\n",
    "                      square=True,  # Square cells for better proportion\n",
    "                      cbar=False)  # Remove colorbar to free up space\n",
    "\n",
    "# Set title and labels with significant padding\n",
    "plt.title(\"Confusion Matrix\", pad=30, fontsize=16)\n",
    "plt.xlabel(\"Predicted\", labelpad=20, fontsize=14)\n",
    "plt.ylabel(\"Actual\", labelpad=20, fontsize=14)\n",
    "\n",
    "# Ensure labels are fully visible\n",
    "plt.xticks(fontsize=12, rotation=0)\n",
    "plt.yticks(fontsize=12, rotation=0)\n",
    "\n",
    "# Adjust layout to fit within Jupyter's rendering\n",
    "plt.tight_layout()\n",
    "plt.subplots_adjust(left=0.2, right=0.95, top=0.85, bottom=0.25)  # Increased bottom margin\n",
    "\n",
    "# Save the plot to a file to confirm rendering\n",
    "plt.savefig(\"confusion_matrix.png\", dpi=300, bbox_inches='tight')\n",
    "\n",
    "# Display the plot\n",
    "plt.show()\n",
    "\n",
    "# Print the confusion matrix values as a fallback\n",
    "print(\"Confusion Matrix Values:\")\n",
    "print(cm)\n",
    "\n",
    "\n",
    "# Feature importance (Logistic Regression coefficients)\n",
    "coef_df = pd.DataFrame({\n",
    "    'feature': features,\n",
    "    'coefficient': lr_clf.coef_[0]\n",
    "})\n",
    "print(\"\\nTop 10 features with highest positive coefficients (Positive Sentiment):\")\n",
    "print(coef_df.sort_values('coefficient', ascending=False).head(10))\n",
    "print(\"\\nTop 10 features with highest negative coefficients (Negative Sentiment):\")\n",
    "print(coef_df.sort_values('coefficient', ascending=True).head(10))"
   ]
  },
  {
   "cell_type": "code",
   "execution_count": null,
   "id": "ad09a142-14ad-4f52-a9c8-6c0e09ef731a",
   "metadata": {},
   "outputs": [],
   "source": []
  },
  {
   "cell_type": "code",
   "execution_count": null,
   "id": "dc01a374-ff69-4c92-9d72-87921bb3ec6b",
   "metadata": {},
   "outputs": [],
   "source": []
  }
 ],
 "metadata": {
  "kernelspec": {
   "display_name": "Python 3 (ipykernel)",
   "language": "python",
   "name": "python3"
  },
  "language_info": {
   "codemirror_mode": {
    "name": "ipython",
    "version": 3
   },
   "file_extension": ".py",
   "mimetype": "text/x-python",
   "name": "python",
   "nbconvert_exporter": "python",
   "pygments_lexer": "ipython3",
   "version": "3.11.7"
  }
 },
 "nbformat": 4,
 "nbformat_minor": 5
}
